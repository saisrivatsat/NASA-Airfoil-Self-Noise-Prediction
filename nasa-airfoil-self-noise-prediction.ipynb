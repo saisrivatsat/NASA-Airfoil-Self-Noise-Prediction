{
 "cells": [
  {
   "cell_type": "markdown",
   "id": "ba2cda4e",
   "metadata": {
    "papermill": {
     "duration": 0.005472,
     "end_time": "2025-02-03T22:54:39.674384",
     "exception": false,
     "start_time": "2025-02-03T22:54:39.668912",
     "status": "completed"
    },
    "tags": []
   },
   "source": [
    "# **NASA Airfoil Self-Noise Prediction**\n",
    "## **1. Introduction**\n",
    "This project aims to analyze the **aerodynamic and acoustic test data** collected from wind tunnel experiments on airfoil blade sections. The dataset consists of **physical parameters** affecting noise levels, and our goal is to **predict the \"Scaled Sound Pressure Level\" (in decibels)** using **machine learning (Linear Regression) and deep learning (Neural Networks)**.\n",
    "\n",
    "## **2. Dataset Description**\n",
    "The dataset consists of **5 features (independent variables)** and **1 target variable**:\n",
    "\n",
    "| Feature | Description |\n",
    "|---------|------------|\n",
    "| **Frequency** | Frequency of sound in Hertz (Hz) |\n",
    "| **Angle of Attack** | Angle in degrees (°) |\n",
    "| **Chord Length** | Chord length in meters (m) |\n",
    "| **Free-stream Velocity** | Velocity in meters per second (m/s) |\n",
    "| **Suction Side Displacement Thickness** | Suction thickness in meters (m) |\n",
    "| **Target Variable (Y)** | Scaled sound pressure level in decibels (dB) |\n",
    "\n",
    "We will **clean, normalize, and model the data** using both **Linear Regression and Deep Learning techniques**, followed by performance improvements.\n"
   ]
  },
  {
   "cell_type": "markdown",
   "id": "085ea81f",
   "metadata": {
    "papermill": {
     "duration": 0.004545,
     "end_time": "2025-02-03T22:54:39.683892",
     "exception": false,
     "start_time": "2025-02-03T22:54:39.679347",
     "status": "completed"
    },
    "tags": []
   },
   "source": [
    "### **3. Python Implementation**"
   ]
  },
  {
   "cell_type": "code",
   "execution_count": 1,
   "id": "89ed7296",
   "metadata": {
    "execution": {
     "iopub.execute_input": "2025-02-03T22:54:39.694650Z",
     "iopub.status.busy": "2025-02-03T22:54:39.694265Z",
     "iopub.status.idle": "2025-02-03T22:54:56.271290Z",
     "shell.execute_reply": "2025-02-03T22:54:56.270415Z"
    },
    "papermill": {
     "duration": 16.584883,
     "end_time": "2025-02-03T22:54:56.273468",
     "exception": false,
     "start_time": "2025-02-03T22:54:39.688585",
     "status": "completed"
    },
    "tags": []
   },
   "outputs": [],
   "source": [
    "# Importing required libraries\n",
    "import pandas as pd\n",
    "import numpy as np\n",
    "import matplotlib.pyplot as plt\n",
    "import seaborn as sns\n",
    "from sklearn.model_selection import train_test_split\n",
    "from sklearn.preprocessing import MinMaxScaler\n",
    "from sklearn.linear_model import LinearRegression\n",
    "from sklearn.metrics import mean_squared_error\n",
    "import tensorflow as tf\n",
    "from tensorflow import keras"
   ]
  },
  {
   "cell_type": "markdown",
   "id": "630d5cfe",
   "metadata": {
    "papermill": {
     "duration": 0.004598,
     "end_time": "2025-02-03T22:54:56.283391",
     "exception": false,
     "start_time": "2025-02-03T22:54:56.278793",
     "status": "completed"
    },
    "tags": []
   },
   "source": [
    "# Step 1: Load the Dataset\n"
   ]
  },
  {
   "cell_type": "code",
   "execution_count": 2,
   "id": "5bdf6750",
   "metadata": {
    "execution": {
     "iopub.execute_input": "2025-02-03T22:54:56.294329Z",
     "iopub.status.busy": "2025-02-03T22:54:56.293676Z",
     "iopub.status.idle": "2025-02-03T22:54:56.315627Z",
     "shell.execute_reply": "2025-02-03T22:54:56.314495Z"
    },
    "papermill": {
     "duration": 0.029441,
     "end_time": "2025-02-03T22:54:56.317529",
     "exception": false,
     "start_time": "2025-02-03T22:54:56.288088",
     "status": "completed"
    },
    "tags": []
   },
   "outputs": [],
   "source": [
    "file_path = \"/kaggle/input/airfoil-self-noise-dat/airfoil_self_noise.dat\"\n",
    "columns = [\"Frequency\", \"Angle_of_Attack\", \"Chord_Length\", \"Free_Stream_Velocity\", \n",
    "           \"Suction_Side_Displacement_Thickness\", \"Scaled_Sound_Pressure_Level\"]\n",
    "\n",
    "df = pd.read_csv(file_path, sep=\"\\t\", header=None, names=columns)\n"
   ]
  },
  {
   "cell_type": "markdown",
   "id": "5dd35fe8",
   "metadata": {
    "papermill": {
     "duration": 0.004372,
     "end_time": "2025-02-03T22:54:56.326778",
     "exception": false,
     "start_time": "2025-02-03T22:54:56.322406",
     "status": "completed"
    },
    "tags": []
   },
   "source": [
    "## Step 2: Data Cleaning and Description\n"
   ]
  },
  {
   "cell_type": "code",
   "execution_count": 3,
   "id": "8bbea416",
   "metadata": {
    "execution": {
     "iopub.execute_input": "2025-02-03T22:54:56.337192Z",
     "iopub.status.busy": "2025-02-03T22:54:56.336808Z",
     "iopub.status.idle": "2025-02-03T22:54:56.391862Z",
     "shell.execute_reply": "2025-02-03T22:54:56.390372Z"
    },
    "papermill": {
     "duration": 0.062202,
     "end_time": "2025-02-03T22:54:56.393621",
     "exception": false,
     "start_time": "2025-02-03T22:54:56.331419",
     "status": "completed"
    },
    "tags": []
   },
   "outputs": [
    {
     "name": "stdout",
     "output_type": "stream",
     "text": [
      "Dataset Preview:\n",
      "    Frequency  Angle_of_Attack  Chord_Length  Free_Stream_Velocity  \\\n",
      "0        800              0.0        0.3048                  71.3   \n",
      "1       1000              0.0        0.3048                  71.3   \n",
      "2       1250              0.0        0.3048                  71.3   \n",
      "3       1600              0.0        0.3048                  71.3   \n",
      "4       2000              0.0        0.3048                  71.3   \n",
      "\n",
      "   Suction_Side_Displacement_Thickness  Scaled_Sound_Pressure_Level  \n",
      "0                             0.002663                      126.201  \n",
      "1                             0.002663                      125.201  \n",
      "2                             0.002663                      125.951  \n",
      "3                             0.002663                      127.591  \n",
      "4                             0.002663                      127.461  \n",
      "\n",
      "Dataset Information:\n",
      "<class 'pandas.core.frame.DataFrame'>\n",
      "RangeIndex: 1503 entries, 0 to 1502\n",
      "Data columns (total 6 columns):\n",
      " #   Column                               Non-Null Count  Dtype  \n",
      "---  ------                               --------------  -----  \n",
      " 0   Frequency                            1503 non-null   int64  \n",
      " 1   Angle_of_Attack                      1503 non-null   float64\n",
      " 2   Chord_Length                         1503 non-null   float64\n",
      " 3   Free_Stream_Velocity                 1503 non-null   float64\n",
      " 4   Suction_Side_Displacement_Thickness  1503 non-null   float64\n",
      " 5   Scaled_Sound_Pressure_Level          1503 non-null   float64\n",
      "dtypes: float64(5), int64(1)\n",
      "memory usage: 70.6 KB\n",
      "\n",
      "Missing Values:\n",
      " Frequency                              0\n",
      "Angle_of_Attack                        0\n",
      "Chord_Length                           0\n",
      "Free_Stream_Velocity                   0\n",
      "Suction_Side_Displacement_Thickness    0\n",
      "Scaled_Sound_Pressure_Level            0\n",
      "dtype: int64\n",
      "\n",
      "Summary Statistics:\n",
      "           Frequency  Angle_of_Attack  Chord_Length  Free_Stream_Velocity  \\\n",
      "count   1503.000000      1503.000000   1503.000000           1503.000000   \n",
      "mean    2886.380572         6.782302      0.136548             50.860745   \n",
      "std     3152.573137         5.918128      0.093541             15.572784   \n",
      "min      200.000000         0.000000      0.025400             31.700000   \n",
      "25%      800.000000         2.000000      0.050800             39.600000   \n",
      "50%     1600.000000         5.400000      0.101600             39.600000   \n",
      "75%     4000.000000         9.900000      0.228600             71.300000   \n",
      "max    20000.000000        22.200000      0.304800             71.300000   \n",
      "\n",
      "       Suction_Side_Displacement_Thickness  Scaled_Sound_Pressure_Level  \n",
      "count                          1503.000000                  1503.000000  \n",
      "mean                              0.011140                   124.835943  \n",
      "std                               0.013150                     6.898657  \n",
      "min                               0.000401                   103.380000  \n",
      "25%                               0.002535                   120.191000  \n",
      "50%                               0.004957                   125.721000  \n",
      "75%                               0.015576                   129.995500  \n",
      "max                               0.058411                   140.987000  \n"
     ]
    }
   ],
   "source": [
    "print(\"Dataset Preview:\\n\", df.head())\n",
    "print(\"\\nDataset Information:\")\n",
    "df.info()\n",
    "\n",
    "# Checking for missing values\n",
    "print(\"\\nMissing Values:\\n\", df.isnull().sum())\n",
    "\n",
    "# Basic Statistics\n",
    "print(\"\\nSummary Statistics:\\n\", df.describe())"
   ]
  },
  {
   "cell_type": "markdown",
   "id": "c50c07d1",
   "metadata": {
    "papermill": {
     "duration": 0.004663,
     "end_time": "2025-02-03T22:54:56.403343",
     "exception": false,
     "start_time": "2025-02-03T22:54:56.398680",
     "status": "completed"
    },
    "tags": []
   },
   "source": [
    "## Step 3: Splitting Data into Training and Testing Sets"
   ]
  },
  {
   "cell_type": "code",
   "execution_count": 4,
   "id": "0142aa48",
   "metadata": {
    "execution": {
     "iopub.execute_input": "2025-02-03T22:54:56.414002Z",
     "iopub.status.busy": "2025-02-03T22:54:56.413648Z",
     "iopub.status.idle": "2025-02-03T22:54:56.423146Z",
     "shell.execute_reply": "2025-02-03T22:54:56.422250Z"
    },
    "papermill": {
     "duration": 0.016831,
     "end_time": "2025-02-03T22:54:56.424839",
     "exception": false,
     "start_time": "2025-02-03T22:54:56.408008",
     "status": "completed"
    },
    "tags": []
   },
   "outputs": [],
   "source": [
    "X = df.drop(columns=[\"Scaled_Sound_Pressure_Level\"])\n",
    "y = df[\"Scaled_Sound_Pressure_Level\"]\n",
    "\n",
    "X_train, X_test, y_train, y_test = train_test_split(X, y, test_size=0.2, random_state=42)"
   ]
  },
  {
   "cell_type": "markdown",
   "id": "b081502b",
   "metadata": {
    "papermill": {
     "duration": 0.004701,
     "end_time": "2025-02-03T22:54:56.434779",
     "exception": false,
     "start_time": "2025-02-03T22:54:56.430078",
     "status": "completed"
    },
    "tags": []
   },
   "source": [
    "## Step 4: Building a Linear Regression Model\n"
   ]
  },
  {
   "cell_type": "code",
   "execution_count": 5,
   "id": "da55ab3a",
   "metadata": {
    "execution": {
     "iopub.execute_input": "2025-02-03T22:54:56.446138Z",
     "iopub.status.busy": "2025-02-03T22:54:56.445738Z",
     "iopub.status.idle": "2025-02-03T22:54:56.499923Z",
     "shell.execute_reply": "2025-02-03T22:54:56.498780Z"
    },
    "papermill": {
     "duration": 0.061822,
     "end_time": "2025-02-03T22:54:56.501564",
     "exception": false,
     "start_time": "2025-02-03T22:54:56.439742",
     "status": "completed"
    },
    "tags": []
   },
   "outputs": [
    {
     "name": "stdout",
     "output_type": "stream",
     "text": [
      "\n",
      "Linear Regression Test Error (MSE): 22.1286\n"
     ]
    }
   ],
   "source": [
    "lin_reg = LinearRegression()\n",
    "lin_reg.fit(X_train, y_train)\n",
    "\n",
    "# Predictions and evaluation\n",
    "y_pred_lr = lin_reg.predict(X_test)\n",
    "mse_lr = mean_squared_error(y_test, y_pred_lr)\n",
    "print(f\"\\nLinear Regression Test Error (MSE): {mse_lr:.4f}\")"
   ]
  },
  {
   "cell_type": "markdown",
   "id": "fd95b45b",
   "metadata": {
    "papermill": {
     "duration": 0.004627,
     "end_time": "2025-02-03T22:54:56.511338",
     "exception": false,
     "start_time": "2025-02-03T22:54:56.506711",
     "status": "completed"
    },
    "tags": []
   },
   "source": [
    "## Step 5: Normalizing the Data"
   ]
  },
  {
   "cell_type": "code",
   "execution_count": 6,
   "id": "03909f5d",
   "metadata": {
    "execution": {
     "iopub.execute_input": "2025-02-03T22:54:56.522308Z",
     "iopub.status.busy": "2025-02-03T22:54:56.521921Z",
     "iopub.status.idle": "2025-02-03T22:54:56.530765Z",
     "shell.execute_reply": "2025-02-03T22:54:56.529931Z"
    },
    "papermill": {
     "duration": 0.016329,
     "end_time": "2025-02-03T22:54:56.532552",
     "exception": false,
     "start_time": "2025-02-03T22:54:56.516223",
     "status": "completed"
    },
    "tags": []
   },
   "outputs": [],
   "source": [
    "scaler = MinMaxScaler()\n",
    "X_train_scaled = scaler.fit_transform(X_train)\n",
    "X_test_scaled = scaler.transform(X_test)"
   ]
  },
  {
   "cell_type": "markdown",
   "id": "9f72ffe5",
   "metadata": {
    "papermill": {
     "duration": 0.004945,
     "end_time": "2025-02-03T22:54:56.542578",
     "exception": false,
     "start_time": "2025-02-03T22:54:56.537633",
     "status": "completed"
    },
    "tags": []
   },
   "source": [
    "## Step 6: Building a Deep Learning Model (Basic)\n"
   ]
  },
  {
   "cell_type": "code",
   "execution_count": 7,
   "id": "54ee57a1",
   "metadata": {
    "execution": {
     "iopub.execute_input": "2025-02-03T22:54:56.553751Z",
     "iopub.status.busy": "2025-02-03T22:54:56.553396Z",
     "iopub.status.idle": "2025-02-03T22:55:07.822662Z",
     "shell.execute_reply": "2025-02-03T22:55:07.821492Z"
    },
    "papermill": {
     "duration": 11.27694,
     "end_time": "2025-02-03T22:55:07.824490",
     "exception": false,
     "start_time": "2025-02-03T22:54:56.547550",
     "status": "completed"
    },
    "tags": []
   },
   "outputs": [
    {
     "name": "stdout",
     "output_type": "stream",
     "text": [
      "Epoch 1/50\n"
     ]
    },
    {
     "name": "stderr",
     "output_type": "stream",
     "text": [
      "/usr/local/lib/python3.10/dist-packages/keras/src/layers/core/dense.py:87: UserWarning: Do not pass an `input_shape`/`input_dim` argument to a layer. When using Sequential models, prefer using an `Input(shape)` object as the first layer in the model instead.\n",
      "  super().__init__(activity_regularizer=activity_regularizer, **kwargs)\n"
     ]
    },
    {
     "name": "stdout",
     "output_type": "stream",
     "text": [
      "\u001b[1m121/121\u001b[0m \u001b[32m━━━━━━━━━━━━━━━━━━━━\u001b[0m\u001b[37m\u001b[0m \u001b[1m1s\u001b[0m 2ms/step - loss: 15423.4883 - val_loss: 14523.7139\n",
      "Epoch 2/50\n",
      "\u001b[1m121/121\u001b[0m \u001b[32m━━━━━━━━━━━━━━━━━━━━\u001b[0m\u001b[37m\u001b[0m \u001b[1m0s\u001b[0m 1ms/step - loss: 13972.9014 - val_loss: 11919.1133\n",
      "Epoch 3/50\n",
      "\u001b[1m121/121\u001b[0m \u001b[32m━━━━━━━━━━━━━━━━━━━━\u001b[0m\u001b[37m\u001b[0m \u001b[1m0s\u001b[0m 1ms/step - loss: 10984.1826 - val_loss: 8398.2910\n",
      "Epoch 4/50\n",
      "\u001b[1m121/121\u001b[0m \u001b[32m━━━━━━━━━━━━━━━━━━━━\u001b[0m\u001b[37m\u001b[0m \u001b[1m0s\u001b[0m 1ms/step - loss: 7213.9302 - val_loss: 5085.8569\n",
      "Epoch 5/50\n",
      "\u001b[1m121/121\u001b[0m \u001b[32m━━━━━━━━━━━━━━━━━━━━\u001b[0m\u001b[37m\u001b[0m \u001b[1m0s\u001b[0m 1ms/step - loss: 4218.2715 - val_loss: 2796.6165\n",
      "Epoch 6/50\n",
      "\u001b[1m121/121\u001b[0m \u001b[32m━━━━━━━━━━━━━━━━━━━━\u001b[0m\u001b[37m\u001b[0m \u001b[1m0s\u001b[0m 1ms/step - loss: 2200.9712 - val_loss: 1628.6382\n",
      "Epoch 7/50\n",
      "\u001b[1m121/121\u001b[0m \u001b[32m━━━━━━━━━━━━━━━━━━━━\u001b[0m\u001b[37m\u001b[0m \u001b[1m0s\u001b[0m 1ms/step - loss: 1369.9723 - val_loss: 1185.4445\n",
      "Epoch 8/50\n",
      "\u001b[1m121/121\u001b[0m \u001b[32m━━━━━━━━━━━━━━━━━━━━\u001b[0m\u001b[37m\u001b[0m \u001b[1m0s\u001b[0m 1ms/step - loss: 1057.1628 - val_loss: 1040.1525\n",
      "Epoch 9/50\n",
      "\u001b[1m121/121\u001b[0m \u001b[32m━━━━━━━━━━━━━━━━━━━━\u001b[0m\u001b[37m\u001b[0m \u001b[1m0s\u001b[0m 1ms/step - loss: 917.6899 - val_loss: 971.8405\n",
      "Epoch 10/50\n",
      "\u001b[1m121/121\u001b[0m \u001b[32m━━━━━━━━━━━━━━━━━━━━\u001b[0m\u001b[37m\u001b[0m \u001b[1m0s\u001b[0m 1ms/step - loss: 901.2994 - val_loss: 921.0493\n",
      "Epoch 11/50\n",
      "\u001b[1m121/121\u001b[0m \u001b[32m━━━━━━━━━━━━━━━━━━━━\u001b[0m\u001b[37m\u001b[0m \u001b[1m0s\u001b[0m 1ms/step - loss: 819.8072 - val_loss: 874.3599\n",
      "Epoch 12/50\n",
      "\u001b[1m121/121\u001b[0m \u001b[32m━━━━━━━━━━━━━━━━━━━━\u001b[0m\u001b[37m\u001b[0m \u001b[1m0s\u001b[0m 1ms/step - loss: 752.9559 - val_loss: 830.6990\n",
      "Epoch 13/50\n",
      "\u001b[1m121/121\u001b[0m \u001b[32m━━━━━━━━━━━━━━━━━━━━\u001b[0m\u001b[37m\u001b[0m \u001b[1m0s\u001b[0m 1ms/step - loss: 748.7395 - val_loss: 782.4433\n",
      "Epoch 14/50\n",
      "\u001b[1m121/121\u001b[0m \u001b[32m━━━━━━━━━━━━━━━━━━━━\u001b[0m\u001b[37m\u001b[0m \u001b[1m0s\u001b[0m 1ms/step - loss: 696.3806 - val_loss: 737.7014\n",
      "Epoch 15/50\n",
      "\u001b[1m121/121\u001b[0m \u001b[32m━━━━━━━━━━━━━━━━━━━━\u001b[0m\u001b[37m\u001b[0m \u001b[1m0s\u001b[0m 1ms/step - loss: 643.4555 - val_loss: 694.2977\n",
      "Epoch 16/50\n",
      "\u001b[1m121/121\u001b[0m \u001b[32m━━━━━━━━━━━━━━━━━━━━\u001b[0m\u001b[37m\u001b[0m \u001b[1m0s\u001b[0m 1ms/step - loss: 663.2657 - val_loss: 649.7683\n",
      "Epoch 17/50\n",
      "\u001b[1m121/121\u001b[0m \u001b[32m━━━━━━━━━━━━━━━━━━━━\u001b[0m\u001b[37m\u001b[0m \u001b[1m0s\u001b[0m 1ms/step - loss: 593.7255 - val_loss: 605.7537\n",
      "Epoch 18/50\n",
      "\u001b[1m121/121\u001b[0m \u001b[32m━━━━━━━━━━━━━━━━━━━━\u001b[0m\u001b[37m\u001b[0m \u001b[1m0s\u001b[0m 1ms/step - loss: 552.9087 - val_loss: 559.5372\n",
      "Epoch 19/50\n",
      "\u001b[1m121/121\u001b[0m \u001b[32m━━━━━━━━━━━━━━━━━━━━\u001b[0m\u001b[37m\u001b[0m \u001b[1m0s\u001b[0m 1ms/step - loss: 509.7758 - val_loss: 513.9757\n",
      "Epoch 20/50\n",
      "\u001b[1m121/121\u001b[0m \u001b[32m━━━━━━━━━━━━━━━━━━━━\u001b[0m\u001b[37m\u001b[0m \u001b[1m0s\u001b[0m 1ms/step - loss: 471.5698 - val_loss: 467.9844\n",
      "Epoch 21/50\n",
      "\u001b[1m121/121\u001b[0m \u001b[32m━━━━━━━━━━━━━━━━━━━━\u001b[0m\u001b[37m\u001b[0m \u001b[1m0s\u001b[0m 2ms/step - loss: 412.8669 - val_loss: 423.4528\n",
      "Epoch 22/50\n",
      "\u001b[1m121/121\u001b[0m \u001b[32m━━━━━━━━━━━━━━━━━━━━\u001b[0m\u001b[37m\u001b[0m \u001b[1m0s\u001b[0m 1ms/step - loss: 394.5529 - val_loss: 380.4567\n",
      "Epoch 23/50\n",
      "\u001b[1m121/121\u001b[0m \u001b[32m━━━━━━━━━━━━━━━━━━━━\u001b[0m\u001b[37m\u001b[0m \u001b[1m0s\u001b[0m 1ms/step - loss: 337.9760 - val_loss: 339.4386\n",
      "Epoch 24/50\n",
      "\u001b[1m121/121\u001b[0m \u001b[32m━━━━━━━━━━━━━━━━━━━━\u001b[0m\u001b[37m\u001b[0m \u001b[1m0s\u001b[0m 1ms/step - loss: 328.6108 - val_loss: 300.8085\n",
      "Epoch 25/50\n",
      "\u001b[1m121/121\u001b[0m \u001b[32m━━━━━━━━━━━━━━━━━━━━\u001b[0m\u001b[37m\u001b[0m \u001b[1m0s\u001b[0m 1ms/step - loss: 258.5830 - val_loss: 265.4482\n",
      "Epoch 26/50\n",
      "\u001b[1m121/121\u001b[0m \u001b[32m━━━━━━━━━━━━━━━━━━━━\u001b[0m\u001b[37m\u001b[0m \u001b[1m0s\u001b[0m 1ms/step - loss: 238.5988 - val_loss: 233.1203\n",
      "Epoch 27/50\n",
      "\u001b[1m121/121\u001b[0m \u001b[32m━━━━━━━━━━━━━━━━━━━━\u001b[0m\u001b[37m\u001b[0m \u001b[1m0s\u001b[0m 1ms/step - loss: 199.1455 - val_loss: 202.1840\n",
      "Epoch 28/50\n",
      "\u001b[1m121/121\u001b[0m \u001b[32m━━━━━━━━━━━━━━━━━━━━\u001b[0m\u001b[37m\u001b[0m \u001b[1m0s\u001b[0m 1ms/step - loss: 181.1825 - val_loss: 175.1853\n",
      "Epoch 29/50\n",
      "\u001b[1m121/121\u001b[0m \u001b[32m━━━━━━━━━━━━━━━━━━━━\u001b[0m\u001b[37m\u001b[0m \u001b[1m0s\u001b[0m 2ms/step - loss: 157.6570 - val_loss: 152.1894\n",
      "Epoch 30/50\n",
      "\u001b[1m121/121\u001b[0m \u001b[32m━━━━━━━━━━━━━━━━━━━━\u001b[0m\u001b[37m\u001b[0m \u001b[1m0s\u001b[0m 1ms/step - loss: 131.0322 - val_loss: 132.4182\n",
      "Epoch 31/50\n",
      "\u001b[1m121/121\u001b[0m \u001b[32m━━━━━━━━━━━━━━━━━━━━\u001b[0m\u001b[37m\u001b[0m \u001b[1m0s\u001b[0m 1ms/step - loss: 112.7748 - val_loss: 115.9772\n",
      "Epoch 32/50\n",
      "\u001b[1m121/121\u001b[0m \u001b[32m━━━━━━━━━━━━━━━━━━━━\u001b[0m\u001b[37m\u001b[0m \u001b[1m0s\u001b[0m 1ms/step - loss: 99.3082 - val_loss: 101.3661\n",
      "Epoch 33/50\n",
      "\u001b[1m121/121\u001b[0m \u001b[32m━━━━━━━━━━━━━━━━━━━━\u001b[0m\u001b[37m\u001b[0m \u001b[1m0s\u001b[0m 1ms/step - loss: 90.2103 - val_loss: 89.6666\n",
      "Epoch 34/50\n",
      "\u001b[1m121/121\u001b[0m \u001b[32m━━━━━━━━━━━━━━━━━━━━\u001b[0m\u001b[37m\u001b[0m \u001b[1m0s\u001b[0m 1ms/step - loss: 79.7083 - val_loss: 79.0553\n",
      "Epoch 35/50\n",
      "\u001b[1m121/121\u001b[0m \u001b[32m━━━━━━━━━━━━━━━━━━━━\u001b[0m\u001b[37m\u001b[0m \u001b[1m0s\u001b[0m 2ms/step - loss: 69.0926 - val_loss: 70.1566\n",
      "Epoch 36/50\n",
      "\u001b[1m121/121\u001b[0m \u001b[32m━━━━━━━━━━━━━━━━━━━━\u001b[0m\u001b[37m\u001b[0m \u001b[1m0s\u001b[0m 1ms/step - loss: 60.5824 - val_loss: 63.2317\n",
      "Epoch 37/50\n",
      "\u001b[1m121/121\u001b[0m \u001b[32m━━━━━━━━━━━━━━━━━━━━\u001b[0m\u001b[37m\u001b[0m \u001b[1m0s\u001b[0m 1ms/step - loss: 56.3032 - val_loss: 56.4764\n",
      "Epoch 38/50\n",
      "\u001b[1m121/121\u001b[0m \u001b[32m━━━━━━━━━━━━━━━━━━━━\u001b[0m\u001b[37m\u001b[0m \u001b[1m0s\u001b[0m 1ms/step - loss: 48.6241 - val_loss: 51.2239\n",
      "Epoch 39/50\n",
      "\u001b[1m121/121\u001b[0m \u001b[32m━━━━━━━━━━━━━━━━━━━━\u001b[0m\u001b[37m\u001b[0m \u001b[1m0s\u001b[0m 1ms/step - loss: 44.3446 - val_loss: 46.7756\n",
      "Epoch 40/50\n",
      "\u001b[1m121/121\u001b[0m \u001b[32m━━━━━━━━━━━━━━━━━━━━\u001b[0m\u001b[37m\u001b[0m \u001b[1m0s\u001b[0m 1ms/step - loss: 44.2018 - val_loss: 42.9713\n",
      "Epoch 41/50\n",
      "\u001b[1m121/121\u001b[0m \u001b[32m━━━━━━━━━━━━━━━━━━━━\u001b[0m\u001b[37m\u001b[0m \u001b[1m0s\u001b[0m 1ms/step - loss: 39.7444 - val_loss: 39.8476\n",
      "Epoch 42/50\n",
      "\u001b[1m121/121\u001b[0m \u001b[32m━━━━━━━━━━━━━━━━━━━━\u001b[0m\u001b[37m\u001b[0m \u001b[1m0s\u001b[0m 2ms/step - loss: 36.3944 - val_loss: 36.9413\n",
      "Epoch 43/50\n",
      "\u001b[1m121/121\u001b[0m \u001b[32m━━━━━━━━━━━━━━━━━━━━\u001b[0m\u001b[37m\u001b[0m \u001b[1m0s\u001b[0m 1ms/step - loss: 33.6904 - val_loss: 34.7212\n",
      "Epoch 44/50\n",
      "\u001b[1m121/121\u001b[0m \u001b[32m━━━━━━━━━━━━━━━━━━━━\u001b[0m\u001b[37m\u001b[0m \u001b[1m0s\u001b[0m 1ms/step - loss: 32.9098 - val_loss: 32.5482\n",
      "Epoch 45/50\n",
      "\u001b[1m121/121\u001b[0m \u001b[32m━━━━━━━━━━━━━━━━━━━━\u001b[0m\u001b[37m\u001b[0m \u001b[1m0s\u001b[0m 1ms/step - loss: 29.9692 - val_loss: 31.0662\n",
      "Epoch 46/50\n",
      "\u001b[1m121/121\u001b[0m \u001b[32m━━━━━━━━━━━━━━━━━━━━\u001b[0m\u001b[37m\u001b[0m \u001b[1m0s\u001b[0m 1ms/step - loss: 29.2790 - val_loss: 29.4104\n",
      "Epoch 47/50\n",
      "\u001b[1m121/121\u001b[0m \u001b[32m━━━━━━━━━━━━━━━━━━━━\u001b[0m\u001b[37m\u001b[0m \u001b[1m0s\u001b[0m 1ms/step - loss: 27.3015 - val_loss: 27.9731\n",
      "Epoch 48/50\n",
      "\u001b[1m121/121\u001b[0m \u001b[32m━━━━━━━━━━━━━━━━━━━━\u001b[0m\u001b[37m\u001b[0m \u001b[1m0s\u001b[0m 1ms/step - loss: 27.6486 - val_loss: 27.0484\n",
      "Epoch 49/50\n",
      "\u001b[1m121/121\u001b[0m \u001b[32m━━━━━━━━━━━━━━━━━━━━\u001b[0m\u001b[37m\u001b[0m \u001b[1m0s\u001b[0m 1ms/step - loss: 27.2155 - val_loss: 26.1332\n",
      "Epoch 50/50\n",
      "\u001b[1m121/121\u001b[0m \u001b[32m━━━━━━━━━━━━━━━━━━━━\u001b[0m\u001b[37m\u001b[0m \u001b[1m0s\u001b[0m 1ms/step - loss: 24.5415 - val_loss: 25.2787\n",
      "\u001b[1m10/10\u001b[0m \u001b[32m━━━━━━━━━━━━━━━━━━━━\u001b[0m\u001b[37m\u001b[0m \u001b[1m0s\u001b[0m 1ms/step - loss: 25.3404 \n",
      "\n",
      "Basic Deep Learning Test Error (MSE): 25.2787\n"
     ]
    }
   ],
   "source": [
    "model = keras.Sequential([\n",
    "    keras.layers.Dense(64, activation=\"relu\", input_shape=(X_train.shape[1],)),\n",
    "    keras.layers.Dense(1)  # Output layer for regression\n",
    "])\n",
    "\n",
    "# Compile the model\n",
    "model.compile(optimizer=\"adam\", loss=\"mse\")\n",
    "\n",
    "# Train the model\n",
    "history = model.fit(X_train_scaled, y_train, epochs=50, batch_size=10, validation_data=(X_test_scaled, y_test))\n",
    "\n",
    "# Evaluate on test set\n",
    "mse_dl = model.evaluate(X_test_scaled, y_test)\n",
    "print(f\"\\nBasic Deep Learning Test Error (MSE): {mse_dl:.4f}\")"
   ]
  },
  {
   "cell_type": "markdown",
   "id": "90404ff0",
   "metadata": {
    "papermill": {
     "duration": 0.018625,
     "end_time": "2025-02-03T22:55:07.862719",
     "exception": false,
     "start_time": "2025-02-03T22:55:07.844094",
     "status": "completed"
    },
    "tags": []
   },
   "source": [
    "## Step 7: Model Improvement - Increasing Neurons\n"
   ]
  },
  {
   "cell_type": "code",
   "execution_count": 8,
   "id": "9e38bcbe",
   "metadata": {
    "execution": {
     "iopub.execute_input": "2025-02-03T22:55:07.902022Z",
     "iopub.status.busy": "2025-02-03T22:55:07.901651Z",
     "iopub.status.idle": "2025-02-03T22:55:19.576676Z",
     "shell.execute_reply": "2025-02-03T22:55:19.575224Z"
    },
    "papermill": {
     "duration": 11.696795,
     "end_time": "2025-02-03T22:55:19.578678",
     "exception": false,
     "start_time": "2025-02-03T22:55:07.881883",
     "status": "completed"
    },
    "tags": []
   },
   "outputs": [
    {
     "name": "stdout",
     "output_type": "stream",
     "text": [
      "Epoch 1/50\n"
     ]
    },
    {
     "name": "stderr",
     "output_type": "stream",
     "text": [
      "/usr/local/lib/python3.10/dist-packages/keras/src/layers/core/dense.py:87: UserWarning: Do not pass an `input_shape`/`input_dim` argument to a layer. When using Sequential models, prefer using an `Input(shape)` object as the first layer in the model instead.\n",
      "  super().__init__(activity_regularizer=activity_regularizer, **kwargs)\n"
     ]
    },
    {
     "name": "stdout",
     "output_type": "stream",
     "text": [
      "\u001b[1m121/121\u001b[0m \u001b[32m━━━━━━━━━━━━━━━━━━━━\u001b[0m\u001b[37m\u001b[0m \u001b[1m1s\u001b[0m 2ms/step - loss: 15481.8613 - val_loss: 14228.2588\n",
      "Epoch 2/50\n",
      "\u001b[1m121/121\u001b[0m \u001b[32m━━━━━━━━━━━━━━━━━━━━\u001b[0m\u001b[37m\u001b[0m \u001b[1m0s\u001b[0m 1ms/step - loss: 13363.2979 - val_loss: 10311.4180\n",
      "Epoch 3/50\n",
      "\u001b[1m121/121\u001b[0m \u001b[32m━━━━━━━━━━━━━━━━━━━━\u001b[0m\u001b[37m\u001b[0m \u001b[1m0s\u001b[0m 1ms/step - loss: 8967.6533 - val_loss: 5605.3096\n",
      "Epoch 4/50\n",
      "\u001b[1m121/121\u001b[0m \u001b[32m━━━━━━━━━━━━━━━━━━━━\u001b[0m\u001b[37m\u001b[0m \u001b[1m0s\u001b[0m 1ms/step - loss: 4539.4141 - val_loss: 2447.1694\n",
      "Epoch 5/50\n",
      "\u001b[1m121/121\u001b[0m \u001b[32m━━━━━━━━━━━━━━━━━━━━\u001b[0m\u001b[37m\u001b[0m \u001b[1m0s\u001b[0m 1ms/step - loss: 1828.2761 - val_loss: 1306.5376\n",
      "Epoch 6/50\n",
      "\u001b[1m121/121\u001b[0m \u001b[32m━━━━━━━━━━━━━━━━━━━━\u001b[0m\u001b[37m\u001b[0m \u001b[1m0s\u001b[0m 1ms/step - loss: 1087.2650 - val_loss: 1034.1241\n",
      "Epoch 7/50\n",
      "\u001b[1m121/121\u001b[0m \u001b[32m━━━━━━━━━━━━━━━━━━━━\u001b[0m\u001b[37m\u001b[0m \u001b[1m0s\u001b[0m 1ms/step - loss: 923.5052 - val_loss: 950.2506\n",
      "Epoch 8/50\n",
      "\u001b[1m121/121\u001b[0m \u001b[32m━━━━━━━━━━━━━━━━━━━━\u001b[0m\u001b[37m\u001b[0m \u001b[1m0s\u001b[0m 2ms/step - loss: 887.4598 - val_loss: 884.5527\n",
      "Epoch 9/50\n",
      "\u001b[1m121/121\u001b[0m \u001b[32m━━━━━━━━━━━━━━━━━━━━\u001b[0m\u001b[37m\u001b[0m \u001b[1m0s\u001b[0m 2ms/step - loss: 814.6497 - val_loss: 823.0387\n",
      "Epoch 10/50\n",
      "\u001b[1m121/121\u001b[0m \u001b[32m━━━━━━━━━━━━━━━━━━━━\u001b[0m\u001b[37m\u001b[0m \u001b[1m0s\u001b[0m 2ms/step - loss: 812.9788 - val_loss: 762.1492\n",
      "Epoch 11/50\n",
      "\u001b[1m121/121\u001b[0m \u001b[32m━━━━━━━━━━━━━━━━━━━━\u001b[0m\u001b[37m\u001b[0m \u001b[1m0s\u001b[0m 2ms/step - loss: 708.6339 - val_loss: 701.4182\n",
      "Epoch 12/50\n",
      "\u001b[1m121/121\u001b[0m \u001b[32m━━━━━━━━━━━━━━━━━━━━\u001b[0m\u001b[37m\u001b[0m \u001b[1m0s\u001b[0m 2ms/step - loss: 688.2314 - val_loss: 645.1807\n",
      "Epoch 13/50\n",
      "\u001b[1m121/121\u001b[0m \u001b[32m━━━━━━━━━━━━━━━━━━━━\u001b[0m\u001b[37m\u001b[0m \u001b[1m0s\u001b[0m 2ms/step - loss: 604.5529 - val_loss: 589.9615\n",
      "Epoch 14/50\n",
      "\u001b[1m121/121\u001b[0m \u001b[32m━━━━━━━━━━━━━━━━━━━━\u001b[0m\u001b[37m\u001b[0m \u001b[1m0s\u001b[0m 2ms/step - loss: 530.1567 - val_loss: 534.3260\n",
      "Epoch 15/50\n",
      "\u001b[1m121/121\u001b[0m \u001b[32m━━━━━━━━━━━━━━━━━━━━\u001b[0m\u001b[37m\u001b[0m \u001b[1m0s\u001b[0m 2ms/step - loss: 474.3217 - val_loss: 483.5520\n",
      "Epoch 16/50\n",
      "\u001b[1m121/121\u001b[0m \u001b[32m━━━━━━━━━━━━━━━━━━━━\u001b[0m\u001b[37m\u001b[0m \u001b[1m0s\u001b[0m 2ms/step - loss: 419.5749 - val_loss: 430.8317\n",
      "Epoch 17/50\n",
      "\u001b[1m121/121\u001b[0m \u001b[32m━━━━━━━━━━━━━━━━━━━━\u001b[0m\u001b[37m\u001b[0m \u001b[1m0s\u001b[0m 1ms/step - loss: 379.1597 - val_loss: 379.4155\n",
      "Epoch 18/50\n",
      "\u001b[1m121/121\u001b[0m \u001b[32m━━━━━━━━━━━━━━━━━━━━\u001b[0m\u001b[37m\u001b[0m \u001b[1m0s\u001b[0m 1ms/step - loss: 335.9343 - val_loss: 333.6614\n",
      "Epoch 19/50\n",
      "\u001b[1m121/121\u001b[0m \u001b[32m━━━━━━━━━━━━━━━━━━━━\u001b[0m\u001b[37m\u001b[0m \u001b[1m0s\u001b[0m 2ms/step - loss: 299.6349 - val_loss: 290.6731\n",
      "Epoch 20/50\n",
      "\u001b[1m121/121\u001b[0m \u001b[32m━━━━━━━━━━━━━━━━━━━━\u001b[0m\u001b[37m\u001b[0m \u001b[1m0s\u001b[0m 1ms/step - loss: 258.1035 - val_loss: 252.2661\n",
      "Epoch 21/50\n",
      "\u001b[1m121/121\u001b[0m \u001b[32m━━━━━━━━━━━━━━━━━━━━\u001b[0m\u001b[37m\u001b[0m \u001b[1m0s\u001b[0m 1ms/step - loss: 212.1784 - val_loss: 217.7978\n",
      "Epoch 22/50\n",
      "\u001b[1m121/121\u001b[0m \u001b[32m━━━━━━━━━━━━━━━━━━━━\u001b[0m\u001b[37m\u001b[0m \u001b[1m0s\u001b[0m 1ms/step - loss: 196.5013 - val_loss: 187.0245\n",
      "Epoch 23/50\n",
      "\u001b[1m121/121\u001b[0m \u001b[32m━━━━━━━━━━━━━━━━━━━━\u001b[0m\u001b[37m\u001b[0m \u001b[1m0s\u001b[0m 1ms/step - loss: 169.7749 - val_loss: 158.8967\n",
      "Epoch 24/50\n",
      "\u001b[1m121/121\u001b[0m \u001b[32m━━━━━━━━━━━━━━━━━━━━\u001b[0m\u001b[37m\u001b[0m \u001b[1m0s\u001b[0m 1ms/step - loss: 141.4173 - val_loss: 135.6914\n",
      "Epoch 25/50\n",
      "\u001b[1m121/121\u001b[0m \u001b[32m━━━━━━━━━━━━━━━━━━━━\u001b[0m\u001b[37m\u001b[0m \u001b[1m0s\u001b[0m 2ms/step - loss: 120.0883 - val_loss: 116.2927\n",
      "Epoch 26/50\n",
      "\u001b[1m121/121\u001b[0m \u001b[32m━━━━━━━━━━━━━━━━━━━━\u001b[0m\u001b[37m\u001b[0m \u001b[1m0s\u001b[0m 1ms/step - loss: 102.7221 - val_loss: 100.1117\n",
      "Epoch 27/50\n",
      "\u001b[1m121/121\u001b[0m \u001b[32m━━━━━━━━━━━━━━━━━━━━\u001b[0m\u001b[37m\u001b[0m \u001b[1m0s\u001b[0m 1ms/step - loss: 85.6478 - val_loss: 86.9779\n",
      "Epoch 28/50\n",
      "\u001b[1m121/121\u001b[0m \u001b[32m━━━━━━━━━━━━━━━━━━━━\u001b[0m\u001b[37m\u001b[0m \u001b[1m0s\u001b[0m 1ms/step - loss: 74.3373 - val_loss: 75.6507\n",
      "Epoch 29/50\n",
      "\u001b[1m121/121\u001b[0m \u001b[32m━━━━━━━━━━━━━━━━━━━━\u001b[0m\u001b[37m\u001b[0m \u001b[1m0s\u001b[0m 1ms/step - loss: 66.6015 - val_loss: 66.4253\n",
      "Epoch 30/50\n",
      "\u001b[1m121/121\u001b[0m \u001b[32m━━━━━━━━━━━━━━━━━━━━\u001b[0m\u001b[37m\u001b[0m \u001b[1m0s\u001b[0m 1ms/step - loss: 61.4239 - val_loss: 58.9695\n",
      "Epoch 31/50\n",
      "\u001b[1m121/121\u001b[0m \u001b[32m━━━━━━━━━━━━━━━━━━━━\u001b[0m\u001b[37m\u001b[0m \u001b[1m0s\u001b[0m 1ms/step - loss: 53.0333 - val_loss: 52.8163\n",
      "Epoch 32/50\n",
      "\u001b[1m121/121\u001b[0m \u001b[32m━━━━━━━━━━━━━━━━━━━━\u001b[0m\u001b[37m\u001b[0m \u001b[1m0s\u001b[0m 1ms/step - loss: 46.0331 - val_loss: 47.9315\n",
      "Epoch 33/50\n",
      "\u001b[1m121/121\u001b[0m \u001b[32m━━━━━━━━━━━━━━━━━━━━\u001b[0m\u001b[37m\u001b[0m \u001b[1m0s\u001b[0m 2ms/step - loss: 46.3050 - val_loss: 43.5123\n",
      "Epoch 34/50\n",
      "\u001b[1m121/121\u001b[0m \u001b[32m━━━━━━━━━━━━━━━━━━━━\u001b[0m\u001b[37m\u001b[0m \u001b[1m0s\u001b[0m 2ms/step - loss: 36.9725 - val_loss: 39.9130\n",
      "Epoch 35/50\n",
      "\u001b[1m121/121\u001b[0m \u001b[32m━━━━━━━━━━━━━━━━━━━━\u001b[0m\u001b[37m\u001b[0m \u001b[1m0s\u001b[0m 1ms/step - loss: 35.9388 - val_loss: 36.8472\n",
      "Epoch 36/50\n",
      "\u001b[1m121/121\u001b[0m \u001b[32m━━━━━━━━━━━━━━━━━━━━\u001b[0m\u001b[37m\u001b[0m \u001b[1m0s\u001b[0m 1ms/step - loss: 32.1034 - val_loss: 33.9964\n",
      "Epoch 37/50\n",
      "\u001b[1m121/121\u001b[0m \u001b[32m━━━━━━━━━━━━━━━━━━━━\u001b[0m\u001b[37m\u001b[0m \u001b[1m0s\u001b[0m 1ms/step - loss: 32.5065 - val_loss: 31.8774\n",
      "Epoch 38/50\n",
      "\u001b[1m121/121\u001b[0m \u001b[32m━━━━━━━━━━━━━━━━━━━━\u001b[0m\u001b[37m\u001b[0m \u001b[1m0s\u001b[0m 1ms/step - loss: 28.4084 - val_loss: 30.3394\n",
      "Epoch 39/50\n",
      "\u001b[1m121/121\u001b[0m \u001b[32m━━━━━━━━━━━━━━━━━━━━\u001b[0m\u001b[37m\u001b[0m \u001b[1m0s\u001b[0m 1ms/step - loss: 27.8533 - val_loss: 28.7718\n",
      "Epoch 40/50\n",
      "\u001b[1m121/121\u001b[0m \u001b[32m━━━━━━━━━━━━━━━━━━━━\u001b[0m\u001b[37m\u001b[0m \u001b[1m0s\u001b[0m 2ms/step - loss: 27.3183 - val_loss: 27.1327\n",
      "Epoch 41/50\n",
      "\u001b[1m121/121\u001b[0m \u001b[32m━━━━━━━━━━━━━━━━━━━━\u001b[0m\u001b[37m\u001b[0m \u001b[1m0s\u001b[0m 1ms/step - loss: 25.1691 - val_loss: 26.2181\n",
      "Epoch 42/50\n",
      "\u001b[1m121/121\u001b[0m \u001b[32m━━━━━━━━━━━━━━━━━━━━\u001b[0m\u001b[37m\u001b[0m \u001b[1m0s\u001b[0m 1ms/step - loss: 26.5058 - val_loss: 25.3181\n",
      "Epoch 43/50\n",
      "\u001b[1m121/121\u001b[0m \u001b[32m━━━━━━━━━━━━━━━━━━━━\u001b[0m\u001b[37m\u001b[0m \u001b[1m0s\u001b[0m 1ms/step - loss: 25.8111 - val_loss: 24.6276\n",
      "Epoch 44/50\n",
      "\u001b[1m121/121\u001b[0m \u001b[32m━━━━━━━━━━━━━━━━━━━━\u001b[0m\u001b[37m\u001b[0m \u001b[1m0s\u001b[0m 1ms/step - loss: 24.3468 - val_loss: 23.9931\n",
      "Epoch 45/50\n",
      "\u001b[1m121/121\u001b[0m \u001b[32m━━━━━━━━━━━━━━━━━━━━\u001b[0m\u001b[37m\u001b[0m \u001b[1m0s\u001b[0m 2ms/step - loss: 24.7444 - val_loss: 23.6265\n",
      "Epoch 46/50\n",
      "\u001b[1m121/121\u001b[0m \u001b[32m━━━━━━━━━━━━━━━━━━━━\u001b[0m\u001b[37m\u001b[0m \u001b[1m0s\u001b[0m 1ms/step - loss: 24.2785 - val_loss: 23.1996\n",
      "Epoch 47/50\n",
      "\u001b[1m121/121\u001b[0m \u001b[32m━━━━━━━━━━━━━━━━━━━━\u001b[0m\u001b[37m\u001b[0m \u001b[1m0s\u001b[0m 2ms/step - loss: 24.9996 - val_loss: 23.2973\n",
      "Epoch 48/50\n",
      "\u001b[1m121/121\u001b[0m \u001b[32m━━━━━━━━━━━━━━━━━━━━\u001b[0m\u001b[37m\u001b[0m \u001b[1m0s\u001b[0m 1ms/step - loss: 23.0211 - val_loss: 22.6841\n",
      "Epoch 49/50\n",
      "\u001b[1m121/121\u001b[0m \u001b[32m━━━━━━━━━━━━━━━━━━━━\u001b[0m\u001b[37m\u001b[0m \u001b[1m0s\u001b[0m 1ms/step - loss: 24.1400 - val_loss: 22.6191\n",
      "Epoch 50/50\n",
      "\u001b[1m121/121\u001b[0m \u001b[32m━━━━━━━━━━━━━━━━━━━━\u001b[0m\u001b[37m\u001b[0m \u001b[1m0s\u001b[0m 1ms/step - loss: 25.0845 - val_loss: 22.2818\n",
      "\u001b[1m10/10\u001b[0m \u001b[32m━━━━━━━━━━━━━━━━━━━━\u001b[0m\u001b[37m\u001b[0m \u001b[1m0s\u001b[0m 1ms/step - loss: 22.6141 \n",
      "\n",
      "Improved Model (More Neurons) Test Error (MSE): 22.2818\n"
     ]
    }
   ],
   "source": [
    "model_2 = keras.Sequential([\n",
    "    keras.layers.Dense(128, activation=\"relu\", input_shape=(X_train.shape[1],)),\n",
    "    keras.layers.Dense(1)\n",
    "])\n",
    "model_2.compile(optimizer=\"adam\", loss=\"mse\")\n",
    "history_2 = model_2.fit(X_train_scaled, y_train, epochs=50, batch_size=10, validation_data=(X_test_scaled, y_test))\n",
    "mse_dl_2 = model_2.evaluate(X_test_scaled, y_test)\n",
    "print(f\"\\nImproved Model (More Neurons) Test Error (MSE): {mse_dl_2:.4f}\")"
   ]
  },
  {
   "cell_type": "markdown",
   "id": "f73fd7ba",
   "metadata": {
    "papermill": {
     "duration": 0.031887,
     "end_time": "2025-02-03T22:55:19.644156",
     "exception": false,
     "start_time": "2025-02-03T22:55:19.612269",
     "status": "completed"
    },
    "tags": []
   },
   "source": [
    "## Step 8: Model Improvement - Adding More Layers\n"
   ]
  },
  {
   "cell_type": "code",
   "execution_count": 9,
   "id": "a0b3fb8b",
   "metadata": {
    "execution": {
     "iopub.execute_input": "2025-02-03T22:55:19.710127Z",
     "iopub.status.busy": "2025-02-03T22:55:19.709773Z",
     "iopub.status.idle": "2025-02-03T22:55:31.616452Z",
     "shell.execute_reply": "2025-02-03T22:55:31.615299Z"
    },
    "papermill": {
     "duration": 11.941558,
     "end_time": "2025-02-03T22:55:31.617999",
     "exception": false,
     "start_time": "2025-02-03T22:55:19.676441",
     "status": "completed"
    },
    "tags": []
   },
   "outputs": [
    {
     "name": "stdout",
     "output_type": "stream",
     "text": [
      "Epoch 1/50\n"
     ]
    },
    {
     "name": "stderr",
     "output_type": "stream",
     "text": [
      "/usr/local/lib/python3.10/dist-packages/keras/src/layers/core/dense.py:87: UserWarning: Do not pass an `input_shape`/`input_dim` argument to a layer. When using Sequential models, prefer using an `Input(shape)` object as the first layer in the model instead.\n",
      "  super().__init__(activity_regularizer=activity_regularizer, **kwargs)\n"
     ]
    },
    {
     "name": "stdout",
     "output_type": "stream",
     "text": [
      "\u001b[1m121/121\u001b[0m \u001b[32m━━━━━━━━━━━━━━━━━━━━\u001b[0m\u001b[37m\u001b[0m \u001b[1m1s\u001b[0m 3ms/step - loss: 14443.4082 - val_loss: 3681.7412\n",
      "Epoch 2/50\n",
      "\u001b[1m121/121\u001b[0m \u001b[32m━━━━━━━━━━━━━━━━━━━━\u001b[0m\u001b[37m\u001b[0m \u001b[1m0s\u001b[0m 2ms/step - loss: 1603.6743 - val_loss: 801.2679\n",
      "Epoch 3/50\n",
      "\u001b[1m121/121\u001b[0m \u001b[32m━━━━━━━━━━━━━━━━━━━━\u001b[0m\u001b[37m\u001b[0m \u001b[1m0s\u001b[0m 2ms/step - loss: 697.9466 - val_loss: 509.3311\n",
      "Epoch 4/50\n",
      "\u001b[1m121/121\u001b[0m \u001b[32m━━━━━━━━━━━━━━━━━━━━\u001b[0m\u001b[37m\u001b[0m \u001b[1m0s\u001b[0m 2ms/step - loss: 411.0131 - val_loss: 286.4872\n",
      "Epoch 5/50\n",
      "\u001b[1m121/121\u001b[0m \u001b[32m━━━━━━━━━━━━━━━━━━━━\u001b[0m\u001b[37m\u001b[0m \u001b[1m0s\u001b[0m 2ms/step - loss: 234.1478 - val_loss: 148.1370\n",
      "Epoch 6/50\n",
      "\u001b[1m121/121\u001b[0m \u001b[32m━━━━━━━━━━━━━━━━━━━━\u001b[0m\u001b[37m\u001b[0m \u001b[1m0s\u001b[0m 2ms/step - loss: 122.6623 - val_loss: 82.1781\n",
      "Epoch 7/50\n",
      "\u001b[1m121/121\u001b[0m \u001b[32m━━━━━━━━━━━━━━━━━━━━\u001b[0m\u001b[37m\u001b[0m \u001b[1m0s\u001b[0m 2ms/step - loss: 70.2515 - val_loss: 53.3109\n",
      "Epoch 8/50\n",
      "\u001b[1m121/121\u001b[0m \u001b[32m━━━━━━━━━━━━━━━━━━━━\u001b[0m\u001b[37m\u001b[0m \u001b[1m0s\u001b[0m 2ms/step - loss: 44.7793 - val_loss: 39.6947\n",
      "Epoch 9/50\n",
      "\u001b[1m121/121\u001b[0m \u001b[32m━━━━━━━━━━━━━━━━━━━━\u001b[0m\u001b[37m\u001b[0m \u001b[1m0s\u001b[0m 2ms/step - loss: 36.9288 - val_loss: 33.7154\n",
      "Epoch 10/50\n",
      "\u001b[1m121/121\u001b[0m \u001b[32m━━━━━━━━━━━━━━━━━━━━\u001b[0m\u001b[37m\u001b[0m \u001b[1m0s\u001b[0m 2ms/step - loss: 31.8740 - val_loss: 28.4603\n",
      "Epoch 11/50\n",
      "\u001b[1m121/121\u001b[0m \u001b[32m━━━━━━━━━━━━━━━━━━━━\u001b[0m\u001b[37m\u001b[0m \u001b[1m0s\u001b[0m 2ms/step - loss: 27.4920 - val_loss: 25.3060\n",
      "Epoch 12/50\n",
      "\u001b[1m121/121\u001b[0m \u001b[32m━━━━━━━━━━━━━━━━━━━━\u001b[0m\u001b[37m\u001b[0m \u001b[1m0s\u001b[0m 2ms/step - loss: 25.6286 - val_loss: 24.4043\n",
      "Epoch 13/50\n",
      "\u001b[1m121/121\u001b[0m \u001b[32m━━━━━━━━━━━━━━━━━━━━\u001b[0m\u001b[37m\u001b[0m \u001b[1m0s\u001b[0m 2ms/step - loss: 26.9201 - val_loss: 24.2597\n",
      "Epoch 14/50\n",
      "\u001b[1m121/121\u001b[0m \u001b[32m━━━━━━━━━━━━━━━━━━━━\u001b[0m\u001b[37m\u001b[0m \u001b[1m0s\u001b[0m 2ms/step - loss: 25.7020 - val_loss: 22.9854\n",
      "Epoch 15/50\n",
      "\u001b[1m121/121\u001b[0m \u001b[32m━━━━━━━━━━━━━━━━━━━━\u001b[0m\u001b[37m\u001b[0m \u001b[1m0s\u001b[0m 2ms/step - loss: 23.3521 - val_loss: 22.6417\n",
      "Epoch 16/50\n",
      "\u001b[1m121/121\u001b[0m \u001b[32m━━━━━━━━━━━━━━━━━━━━\u001b[0m\u001b[37m\u001b[0m \u001b[1m0s\u001b[0m 2ms/step - loss: 24.3423 - val_loss: 22.3599\n",
      "Epoch 17/50\n",
      "\u001b[1m121/121\u001b[0m \u001b[32m━━━━━━━━━━━━━━━━━━━━\u001b[0m\u001b[37m\u001b[0m \u001b[1m0s\u001b[0m 2ms/step - loss: 23.3546 - val_loss: 22.2858\n",
      "Epoch 18/50\n",
      "\u001b[1m121/121\u001b[0m \u001b[32m━━━━━━━━━━━━━━━━━━━━\u001b[0m\u001b[37m\u001b[0m \u001b[1m0s\u001b[0m 2ms/step - loss: 23.5780 - val_loss: 21.6459\n",
      "Epoch 19/50\n",
      "\u001b[1m121/121\u001b[0m \u001b[32m━━━━━━━━━━━━━━━━━━━━\u001b[0m\u001b[37m\u001b[0m \u001b[1m0s\u001b[0m 2ms/step - loss: 22.3534 - val_loss: 21.3922\n",
      "Epoch 20/50\n",
      "\u001b[1m121/121\u001b[0m \u001b[32m━━━━━━━━━━━━━━━━━━━━\u001b[0m\u001b[37m\u001b[0m \u001b[1m0s\u001b[0m 2ms/step - loss: 23.0370 - val_loss: 20.4903\n",
      "Epoch 21/50\n",
      "\u001b[1m121/121\u001b[0m \u001b[32m━━━━━━━━━━━━━━━━━━━━\u001b[0m\u001b[37m\u001b[0m \u001b[1m0s\u001b[0m 2ms/step - loss: 22.6504 - val_loss: 19.8992\n",
      "Epoch 22/50\n",
      "\u001b[1m121/121\u001b[0m \u001b[32m━━━━━━━━━━━━━━━━━━━━\u001b[0m\u001b[37m\u001b[0m \u001b[1m0s\u001b[0m 2ms/step - loss: 21.3702 - val_loss: 20.8544\n",
      "Epoch 23/50\n",
      "\u001b[1m121/121\u001b[0m \u001b[32m━━━━━━━━━━━━━━━━━━━━\u001b[0m\u001b[37m\u001b[0m \u001b[1m0s\u001b[0m 2ms/step - loss: 20.1672 - val_loss: 19.7949\n",
      "Epoch 24/50\n",
      "\u001b[1m121/121\u001b[0m \u001b[32m━━━━━━━━━━━━━━━━━━━━\u001b[0m\u001b[37m\u001b[0m \u001b[1m0s\u001b[0m 2ms/step - loss: 22.9265 - val_loss: 19.5203\n",
      "Epoch 25/50\n",
      "\u001b[1m121/121\u001b[0m \u001b[32m━━━━━━━━━━━━━━━━━━━━\u001b[0m\u001b[37m\u001b[0m \u001b[1m0s\u001b[0m 2ms/step - loss: 19.4911 - val_loss: 19.1107\n",
      "Epoch 26/50\n",
      "\u001b[1m121/121\u001b[0m \u001b[32m━━━━━━━━━━━━━━━━━━━━\u001b[0m\u001b[37m\u001b[0m \u001b[1m0s\u001b[0m 2ms/step - loss: 20.5183 - val_loss: 20.7207\n",
      "Epoch 27/50\n",
      "\u001b[1m121/121\u001b[0m \u001b[32m━━━━━━━━━━━━━━━━━━━━\u001b[0m\u001b[37m\u001b[0m \u001b[1m0s\u001b[0m 2ms/step - loss: 20.2077 - val_loss: 18.6470\n",
      "Epoch 28/50\n",
      "\u001b[1m121/121\u001b[0m \u001b[32m━━━━━━━━━━━━━━━━━━━━\u001b[0m\u001b[37m\u001b[0m \u001b[1m0s\u001b[0m 2ms/step - loss: 21.1490 - val_loss: 18.4019\n",
      "Epoch 29/50\n",
      "\u001b[1m121/121\u001b[0m \u001b[32m━━━━━━━━━━━━━━━━━━━━\u001b[0m\u001b[37m\u001b[0m \u001b[1m0s\u001b[0m 2ms/step - loss: 19.1294 - val_loss: 19.8120\n",
      "Epoch 30/50\n",
      "\u001b[1m121/121\u001b[0m \u001b[32m━━━━━━━━━━━━━━━━━━━━\u001b[0m\u001b[37m\u001b[0m \u001b[1m0s\u001b[0m 2ms/step - loss: 20.8556 - val_loss: 18.9807\n",
      "Epoch 31/50\n",
      "\u001b[1m121/121\u001b[0m \u001b[32m━━━━━━━━━━━━━━━━━━━━\u001b[0m\u001b[37m\u001b[0m \u001b[1m0s\u001b[0m 2ms/step - loss: 20.1183 - val_loss: 19.3477\n",
      "Epoch 32/50\n",
      "\u001b[1m121/121\u001b[0m \u001b[32m━━━━━━━━━━━━━━━━━━━━\u001b[0m\u001b[37m\u001b[0m \u001b[1m0s\u001b[0m 2ms/step - loss: 20.7176 - val_loss: 18.0336\n",
      "Epoch 33/50\n",
      "\u001b[1m121/121\u001b[0m \u001b[32m━━━━━━━━━━━━━━━━━━━━\u001b[0m\u001b[37m\u001b[0m \u001b[1m0s\u001b[0m 2ms/step - loss: 19.3644 - val_loss: 18.4434\n",
      "Epoch 34/50\n",
      "\u001b[1m121/121\u001b[0m \u001b[32m━━━━━━━━━━━━━━━━━━━━\u001b[0m\u001b[37m\u001b[0m \u001b[1m0s\u001b[0m 2ms/step - loss: 18.0105 - val_loss: 20.5297\n",
      "Epoch 35/50\n",
      "\u001b[1m121/121\u001b[0m \u001b[32m━━━━━━━━━━━━━━━━━━━━\u001b[0m\u001b[37m\u001b[0m \u001b[1m0s\u001b[0m 2ms/step - loss: 19.3731 - val_loss: 18.2080\n",
      "Epoch 36/50\n",
      "\u001b[1m121/121\u001b[0m \u001b[32m━━━━━━━━━━━━━━━━━━━━\u001b[0m\u001b[37m\u001b[0m \u001b[1m0s\u001b[0m 2ms/step - loss: 19.5098 - val_loss: 23.0035\n",
      "Epoch 37/50\n",
      "\u001b[1m121/121\u001b[0m \u001b[32m━━━━━━━━━━━━━━━━━━━━\u001b[0m\u001b[37m\u001b[0m \u001b[1m0s\u001b[0m 2ms/step - loss: 19.3575 - val_loss: 18.5590\n",
      "Epoch 38/50\n",
      "\u001b[1m121/121\u001b[0m \u001b[32m━━━━━━━━━━━━━━━━━━━━\u001b[0m\u001b[37m\u001b[0m \u001b[1m0s\u001b[0m 2ms/step - loss: 18.8522 - val_loss: 17.4748\n",
      "Epoch 39/50\n",
      "\u001b[1m121/121\u001b[0m \u001b[32m━━━━━━━━━━━━━━━━━━━━\u001b[0m\u001b[37m\u001b[0m \u001b[1m0s\u001b[0m 2ms/step - loss: 20.0556 - val_loss: 17.8840\n",
      "Epoch 40/50\n",
      "\u001b[1m121/121\u001b[0m \u001b[32m━━━━━━━━━━━━━━━━━━━━\u001b[0m\u001b[37m\u001b[0m \u001b[1m0s\u001b[0m 2ms/step - loss: 18.3545 - val_loss: 17.5117\n",
      "Epoch 41/50\n",
      "\u001b[1m121/121\u001b[0m \u001b[32m━━━━━━━━━━━━━━━━━━━━\u001b[0m\u001b[37m\u001b[0m \u001b[1m0s\u001b[0m 2ms/step - loss: 19.7261 - val_loss: 18.5643\n",
      "Epoch 42/50\n",
      "\u001b[1m121/121\u001b[0m \u001b[32m━━━━━━━━━━━━━━━━━━━━\u001b[0m\u001b[37m\u001b[0m \u001b[1m0s\u001b[0m 2ms/step - loss: 20.3154 - val_loss: 18.3769\n",
      "Epoch 43/50\n",
      "\u001b[1m121/121\u001b[0m \u001b[32m━━━━━━━━━━━━━━━━━━━━\u001b[0m\u001b[37m\u001b[0m \u001b[1m0s\u001b[0m 2ms/step - loss: 19.7192 - val_loss: 20.6476\n",
      "Epoch 44/50\n",
      "\u001b[1m121/121\u001b[0m \u001b[32m━━━━━━━━━━━━━━━━━━━━\u001b[0m\u001b[37m\u001b[0m \u001b[1m0s\u001b[0m 2ms/step - loss: 18.8326 - val_loss: 17.9002\n",
      "Epoch 45/50\n",
      "\u001b[1m121/121\u001b[0m \u001b[32m━━━━━━━━━━━━━━━━━━━━\u001b[0m\u001b[37m\u001b[0m \u001b[1m0s\u001b[0m 2ms/step - loss: 20.2391 - val_loss: 20.8138\n",
      "Epoch 46/50\n",
      "\u001b[1m121/121\u001b[0m \u001b[32m━━━━━━━━━━━━━━━━━━━━\u001b[0m\u001b[37m\u001b[0m \u001b[1m0s\u001b[0m 2ms/step - loss: 18.3134 - val_loss: 18.4531\n",
      "Epoch 47/50\n",
      "\u001b[1m121/121\u001b[0m \u001b[32m━━━━━━━━━━━━━━━━━━━━\u001b[0m\u001b[37m\u001b[0m \u001b[1m0s\u001b[0m 2ms/step - loss: 21.9061 - val_loss: 17.2225\n",
      "Epoch 48/50\n",
      "\u001b[1m121/121\u001b[0m \u001b[32m━━━━━━━━━━━━━━━━━━━━\u001b[0m\u001b[37m\u001b[0m \u001b[1m0s\u001b[0m 2ms/step - loss: 17.9774 - val_loss: 18.4992\n",
      "Epoch 49/50\n",
      "\u001b[1m121/121\u001b[0m \u001b[32m━━━━━━━━━━━━━━━━━━━━\u001b[0m\u001b[37m\u001b[0m \u001b[1m0s\u001b[0m 2ms/step - loss: 19.1699 - val_loss: 17.7386\n",
      "Epoch 50/50\n",
      "\u001b[1m121/121\u001b[0m \u001b[32m━━━━━━━━━━━━━━━━━━━━\u001b[0m\u001b[37m\u001b[0m \u001b[1m0s\u001b[0m 2ms/step - loss: 18.1344 - val_loss: 17.1703\n",
      "\u001b[1m10/10\u001b[0m \u001b[32m━━━━━━━━━━━━━━━━━━━━\u001b[0m\u001b[37m\u001b[0m \u001b[1m0s\u001b[0m 1ms/step - loss: 17.4317 \n",
      "\n",
      "Improved Model (More Layers) Test Error (MSE): 17.1703\n"
     ]
    }
   ],
   "source": [
    "model_3 = keras.Sequential([\n",
    "    keras.layers.Dense(128, activation=\"relu\", input_shape=(X_train.shape[1],)),\n",
    "    keras.layers.Dense(64, activation=\"relu\"),\n",
    "    keras.layers.Dense(1)\n",
    "])\n",
    "model_3.compile(optimizer=\"adam\", loss=\"mse\")\n",
    "history_3 = model_3.fit(X_train_scaled, y_train, epochs=50, batch_size=10, validation_data=(X_test_scaled, y_test))\n",
    "mse_dl_3 = model_3.evaluate(X_test_scaled, y_test)\n",
    "print(f\"\\nImproved Model (More Layers) Test Error (MSE): {mse_dl_3:.4f}\")"
   ]
  },
  {
   "cell_type": "markdown",
   "id": "c246c823",
   "metadata": {
    "papermill": {
     "duration": 0.04511,
     "end_time": "2025-02-03T22:55:31.709960",
     "exception": false,
     "start_time": "2025-02-03T22:55:31.664850",
     "status": "completed"
    },
    "tags": []
   },
   "source": [
    "## Step 9: Model Improvement - Changing Optimization Algorithm\n"
   ]
  },
  {
   "cell_type": "code",
   "execution_count": 10,
   "id": "0d53e371",
   "metadata": {
    "execution": {
     "iopub.execute_input": "2025-02-03T22:55:31.801942Z",
     "iopub.status.busy": "2025-02-03T22:55:31.801611Z",
     "iopub.status.idle": "2025-02-03T22:55:43.408000Z",
     "shell.execute_reply": "2025-02-03T22:55:43.406813Z"
    },
    "papermill": {
     "duration": 11.654633,
     "end_time": "2025-02-03T22:55:43.409773",
     "exception": false,
     "start_time": "2025-02-03T22:55:31.755140",
     "status": "completed"
    },
    "tags": []
   },
   "outputs": [
    {
     "name": "stdout",
     "output_type": "stream",
     "text": [
      "Epoch 1/50\n"
     ]
    },
    {
     "name": "stderr",
     "output_type": "stream",
     "text": [
      "/usr/local/lib/python3.10/dist-packages/keras/src/layers/core/dense.py:87: UserWarning: Do not pass an `input_shape`/`input_dim` argument to a layer. When using Sequential models, prefer using an `Input(shape)` object as the first layer in the model instead.\n",
      "  super().__init__(activity_regularizer=activity_regularizer, **kwargs)\n"
     ]
    },
    {
     "name": "stdout",
     "output_type": "stream",
     "text": [
      "\u001b[1m121/121\u001b[0m \u001b[32m━━━━━━━━━━━━━━━━━━━━\u001b[0m\u001b[37m\u001b[0m \u001b[1m1s\u001b[0m 3ms/step - loss: 14513.4014 - val_loss: 7918.8579\n",
      "Epoch 2/50\n",
      "\u001b[1m121/121\u001b[0m \u001b[32m━━━━━━━━━━━━━━━━━━━━\u001b[0m\u001b[37m\u001b[0m \u001b[1m0s\u001b[0m 2ms/step - loss: 4856.9307 - val_loss: 943.7664\n",
      "Epoch 3/50\n",
      "\u001b[1m121/121\u001b[0m \u001b[32m━━━━━━━━━━━━━━━━━━━━\u001b[0m\u001b[37m\u001b[0m \u001b[1m0s\u001b[0m 2ms/step - loss: 807.0919 - val_loss: 582.6417\n",
      "Epoch 4/50\n",
      "\u001b[1m121/121\u001b[0m \u001b[32m━━━━━━━━━━━━━━━━━━━━\u001b[0m\u001b[37m\u001b[0m \u001b[1m0s\u001b[0m 2ms/step - loss: 502.8563 - val_loss: 329.4517\n",
      "Epoch 5/50\n",
      "\u001b[1m121/121\u001b[0m \u001b[32m━━━━━━━━━━━━━━━━━━━━\u001b[0m\u001b[37m\u001b[0m \u001b[1m0s\u001b[0m 2ms/step - loss: 266.2626 - val_loss: 157.3359\n",
      "Epoch 6/50\n",
      "\u001b[1m121/121\u001b[0m \u001b[32m━━━━━━━━━━━━━━━━━━━━\u001b[0m\u001b[37m\u001b[0m \u001b[1m0s\u001b[0m 2ms/step - loss: 125.3107 - val_loss: 76.7090\n",
      "Epoch 7/50\n",
      "\u001b[1m121/121\u001b[0m \u001b[32m━━━━━━━━━━━━━━━━━━━━\u001b[0m\u001b[37m\u001b[0m \u001b[1m0s\u001b[0m 2ms/step - loss: 55.3594 - val_loss: 35.4244\n",
      "Epoch 8/50\n",
      "\u001b[1m121/121\u001b[0m \u001b[32m━━━━━━━━━━━━━━━━━━━━\u001b[0m\u001b[37m\u001b[0m \u001b[1m0s\u001b[0m 2ms/step - loss: 33.6534 - val_loss: 31.7028\n",
      "Epoch 9/50\n",
      "\u001b[1m121/121\u001b[0m \u001b[32m━━━━━━━━━━━━━━━━━━━━\u001b[0m\u001b[37m\u001b[0m \u001b[1m0s\u001b[0m 2ms/step - loss: 30.3618 - val_loss: 30.1302\n",
      "Epoch 10/50\n",
      "\u001b[1m121/121\u001b[0m \u001b[32m━━━━━━━━━━━━━━━━━━━━\u001b[0m\u001b[37m\u001b[0m \u001b[1m0s\u001b[0m 2ms/step - loss: 26.2145 - val_loss: 25.5130\n",
      "Epoch 11/50\n",
      "\u001b[1m121/121\u001b[0m \u001b[32m━━━━━━━━━━━━━━━━━━━━\u001b[0m\u001b[37m\u001b[0m \u001b[1m0s\u001b[0m 2ms/step - loss: 24.8755 - val_loss: 22.6334\n",
      "Epoch 12/50\n",
      "\u001b[1m121/121\u001b[0m \u001b[32m━━━━━━━━━━━━━━━━━━━━\u001b[0m\u001b[37m\u001b[0m \u001b[1m0s\u001b[0m 2ms/step - loss: 24.3492 - val_loss: 26.4712\n",
      "Epoch 13/50\n",
      "\u001b[1m121/121\u001b[0m \u001b[32m━━━━━━━━━━━━━━━━━━━━\u001b[0m\u001b[37m\u001b[0m \u001b[1m0s\u001b[0m 2ms/step - loss: 24.7241 - val_loss: 22.1759\n",
      "Epoch 14/50\n",
      "\u001b[1m121/121\u001b[0m \u001b[32m━━━━━━━━━━━━━━━━━━━━\u001b[0m\u001b[37m\u001b[0m \u001b[1m0s\u001b[0m 2ms/step - loss: 25.3091 - val_loss: 26.0899\n",
      "Epoch 15/50\n",
      "\u001b[1m121/121\u001b[0m \u001b[32m━━━━━━━━━━━━━━━━━━━━\u001b[0m\u001b[37m\u001b[0m \u001b[1m0s\u001b[0m 2ms/step - loss: 23.2430 - val_loss: 31.9253\n",
      "Epoch 16/50\n",
      "\u001b[1m121/121\u001b[0m \u001b[32m━━━━━━━━━━━━━━━━━━━━\u001b[0m\u001b[37m\u001b[0m \u001b[1m0s\u001b[0m 2ms/step - loss: 23.4100 - val_loss: 31.5013\n",
      "Epoch 17/50\n",
      "\u001b[1m121/121\u001b[0m \u001b[32m━━━━━━━━━━━━━━━━━━━━\u001b[0m\u001b[37m\u001b[0m \u001b[1m0s\u001b[0m 2ms/step - loss: 24.7254 - val_loss: 28.3920\n",
      "Epoch 18/50\n",
      "\u001b[1m121/121\u001b[0m \u001b[32m━━━━━━━━━━━━━━━━━━━━\u001b[0m\u001b[37m\u001b[0m \u001b[1m0s\u001b[0m 2ms/step - loss: 25.7684 - val_loss: 29.4680\n",
      "Epoch 19/50\n",
      "\u001b[1m121/121\u001b[0m \u001b[32m━━━━━━━━━━━━━━━━━━━━\u001b[0m\u001b[37m\u001b[0m \u001b[1m0s\u001b[0m 2ms/step - loss: 23.2735 - val_loss: 27.9533\n",
      "Epoch 20/50\n",
      "\u001b[1m121/121\u001b[0m \u001b[32m━━━━━━━━━━━━━━━━━━━━\u001b[0m\u001b[37m\u001b[0m \u001b[1m0s\u001b[0m 2ms/step - loss: 24.1087 - val_loss: 21.5275\n",
      "Epoch 21/50\n",
      "\u001b[1m121/121\u001b[0m \u001b[32m━━━━━━━━━━━━━━━━━━━━\u001b[0m\u001b[37m\u001b[0m \u001b[1m0s\u001b[0m 2ms/step - loss: 23.6341 - val_loss: 25.2092\n",
      "Epoch 22/50\n",
      "\u001b[1m121/121\u001b[0m \u001b[32m━━━━━━━━━━━━━━━━━━━━\u001b[0m\u001b[37m\u001b[0m \u001b[1m0s\u001b[0m 2ms/step - loss: 24.0957 - val_loss: 20.9944\n",
      "Epoch 23/50\n",
      "\u001b[1m121/121\u001b[0m \u001b[32m━━━━━━━━━━━━━━━━━━━━\u001b[0m\u001b[37m\u001b[0m \u001b[1m0s\u001b[0m 2ms/step - loss: 23.3840 - val_loss: 27.1196\n",
      "Epoch 24/50\n",
      "\u001b[1m121/121\u001b[0m \u001b[32m━━━━━━━━━━━━━━━━━━━━\u001b[0m\u001b[37m\u001b[0m \u001b[1m0s\u001b[0m 2ms/step - loss: 23.4690 - val_loss: 20.8729\n",
      "Epoch 25/50\n",
      "\u001b[1m121/121\u001b[0m \u001b[32m━━━━━━━━━━━━━━━━━━━━\u001b[0m\u001b[37m\u001b[0m \u001b[1m0s\u001b[0m 2ms/step - loss: 23.3840 - val_loss: 44.3730\n",
      "Epoch 26/50\n",
      "\u001b[1m121/121\u001b[0m \u001b[32m━━━━━━━━━━━━━━━━━━━━\u001b[0m\u001b[37m\u001b[0m \u001b[1m0s\u001b[0m 2ms/step - loss: 25.1585 - val_loss: 19.9718\n",
      "Epoch 27/50\n",
      "\u001b[1m121/121\u001b[0m \u001b[32m━━━━━━━━━━━━━━━━━━━━\u001b[0m\u001b[37m\u001b[0m \u001b[1m0s\u001b[0m 2ms/step - loss: 22.6246 - val_loss: 24.4154\n",
      "Epoch 28/50\n",
      "\u001b[1m121/121\u001b[0m \u001b[32m━━━━━━━━━━━━━━━━━━━━\u001b[0m\u001b[37m\u001b[0m \u001b[1m0s\u001b[0m 2ms/step - loss: 20.4879 - val_loss: 20.4179\n",
      "Epoch 29/50\n",
      "\u001b[1m121/121\u001b[0m \u001b[32m━━━━━━━━━━━━━━━━━━━━\u001b[0m\u001b[37m\u001b[0m \u001b[1m0s\u001b[0m 2ms/step - loss: 22.6696 - val_loss: 22.7420\n",
      "Epoch 30/50\n",
      "\u001b[1m121/121\u001b[0m \u001b[32m━━━━━━━━━━━━━━━━━━━━\u001b[0m\u001b[37m\u001b[0m \u001b[1m0s\u001b[0m 2ms/step - loss: 21.5883 - val_loss: 21.5325\n",
      "Epoch 31/50\n",
      "\u001b[1m121/121\u001b[0m \u001b[32m━━━━━━━━━━━━━━━━━━━━\u001b[0m\u001b[37m\u001b[0m \u001b[1m0s\u001b[0m 2ms/step - loss: 21.8692 - val_loss: 22.1143\n",
      "Epoch 32/50\n",
      "\u001b[1m121/121\u001b[0m \u001b[32m━━━━━━━━━━━━━━━━━━━━\u001b[0m\u001b[37m\u001b[0m \u001b[1m0s\u001b[0m 2ms/step - loss: 22.0491 - val_loss: 20.9922\n",
      "Epoch 33/50\n",
      "\u001b[1m121/121\u001b[0m \u001b[32m━━━━━━━━━━━━━━━━━━━━\u001b[0m\u001b[37m\u001b[0m \u001b[1m0s\u001b[0m 2ms/step - loss: 22.0085 - val_loss: 32.3273\n",
      "Epoch 34/50\n",
      "\u001b[1m121/121\u001b[0m \u001b[32m━━━━━━━━━━━━━━━━━━━━\u001b[0m\u001b[37m\u001b[0m \u001b[1m0s\u001b[0m 2ms/step - loss: 20.7641 - val_loss: 18.6197\n",
      "Epoch 35/50\n",
      "\u001b[1m121/121\u001b[0m \u001b[32m━━━━━━━━━━━━━━━━━━━━\u001b[0m\u001b[37m\u001b[0m \u001b[1m0s\u001b[0m 2ms/step - loss: 20.5567 - val_loss: 31.7464\n",
      "Epoch 36/50\n",
      "\u001b[1m121/121\u001b[0m \u001b[32m━━━━━━━━━━━━━━━━━━━━\u001b[0m\u001b[37m\u001b[0m \u001b[1m0s\u001b[0m 2ms/step - loss: 20.3657 - val_loss: 42.6271\n",
      "Epoch 37/50\n",
      "\u001b[1m121/121\u001b[0m \u001b[32m━━━━━━━━━━━━━━━━━━━━\u001b[0m\u001b[37m\u001b[0m \u001b[1m0s\u001b[0m 2ms/step - loss: 20.7922 - val_loss: 22.0181\n",
      "Epoch 38/50\n",
      "\u001b[1m121/121\u001b[0m \u001b[32m━━━━━━━━━━━━━━━━━━━━\u001b[0m\u001b[37m\u001b[0m \u001b[1m0s\u001b[0m 2ms/step - loss: 21.1168 - val_loss: 32.6933\n",
      "Epoch 39/50\n",
      "\u001b[1m121/121\u001b[0m \u001b[32m━━━━━━━━━━━━━━━━━━━━\u001b[0m\u001b[37m\u001b[0m \u001b[1m0s\u001b[0m 2ms/step - loss: 19.5950 - val_loss: 18.7502\n",
      "Epoch 40/50\n",
      "\u001b[1m121/121\u001b[0m \u001b[32m━━━━━━━━━━━━━━━━━━━━\u001b[0m\u001b[37m\u001b[0m \u001b[1m0s\u001b[0m 2ms/step - loss: 20.0349 - val_loss: 19.2724\n",
      "Epoch 41/50\n",
      "\u001b[1m121/121\u001b[0m \u001b[32m━━━━━━━━━━━━━━━━━━━━\u001b[0m\u001b[37m\u001b[0m \u001b[1m0s\u001b[0m 2ms/step - loss: 19.5746 - val_loss: 18.4109\n",
      "Epoch 42/50\n",
      "\u001b[1m121/121\u001b[0m \u001b[32m━━━━━━━━━━━━━━━━━━━━\u001b[0m\u001b[37m\u001b[0m \u001b[1m0s\u001b[0m 2ms/step - loss: 20.4709 - val_loss: 19.0517\n",
      "Epoch 43/50\n",
      "\u001b[1m121/121\u001b[0m \u001b[32m━━━━━━━━━━━━━━━━━━━━\u001b[0m\u001b[37m\u001b[0m \u001b[1m0s\u001b[0m 2ms/step - loss: 20.6139 - val_loss: 20.0954\n",
      "Epoch 44/50\n",
      "\u001b[1m121/121\u001b[0m \u001b[32m━━━━━━━━━━━━━━━━━━━━\u001b[0m\u001b[37m\u001b[0m \u001b[1m0s\u001b[0m 2ms/step - loss: 19.3758 - val_loss: 19.0585\n",
      "Epoch 45/50\n",
      "\u001b[1m121/121\u001b[0m \u001b[32m━━━━━━━━━━━━━━━━━━━━\u001b[0m\u001b[37m\u001b[0m \u001b[1m0s\u001b[0m 2ms/step - loss: 18.7452 - val_loss: 20.3778\n",
      "Epoch 46/50\n",
      "\u001b[1m121/121\u001b[0m \u001b[32m━━━━━━━━━━━━━━━━━━━━\u001b[0m\u001b[37m\u001b[0m \u001b[1m0s\u001b[0m 2ms/step - loss: 19.2351 - val_loss: 19.3699\n",
      "Epoch 47/50\n",
      "\u001b[1m121/121\u001b[0m \u001b[32m━━━━━━━━━━━━━━━━━━━━\u001b[0m\u001b[37m\u001b[0m \u001b[1m0s\u001b[0m 2ms/step - loss: 20.8283 - val_loss: 18.4940\n",
      "Epoch 48/50\n",
      "\u001b[1m121/121\u001b[0m \u001b[32m━━━━━━━━━━━━━━━━━━━━\u001b[0m\u001b[37m\u001b[0m \u001b[1m0s\u001b[0m 2ms/step - loss: 21.2394 - val_loss: 19.9455\n",
      "Epoch 49/50\n",
      "\u001b[1m121/121\u001b[0m \u001b[32m━━━━━━━━━━━━━━━━━━━━\u001b[0m\u001b[37m\u001b[0m \u001b[1m0s\u001b[0m 2ms/step - loss: 22.2314 - val_loss: 21.4206\n",
      "Epoch 50/50\n",
      "\u001b[1m121/121\u001b[0m \u001b[32m━━━━━━━━━━━━━━━━━━━━\u001b[0m\u001b[37m\u001b[0m \u001b[1m0s\u001b[0m 2ms/step - loss: 19.9109 - val_loss: 20.5301\n",
      "\u001b[1m10/10\u001b[0m \u001b[32m━━━━━━━━━━━━━━━━━━━━\u001b[0m\u001b[37m\u001b[0m \u001b[1m0s\u001b[0m 1ms/step - loss: 22.0841 \n",
      "\n",
      "Improved Model (RMSprop Optimizer) Test Error (MSE): 20.5301\n"
     ]
    }
   ],
   "source": [
    "model_4 = keras.Sequential([\n",
    "    keras.layers.Dense(128, activation=\"relu\", input_shape=(X_train.shape[1],)),\n",
    "    keras.layers.Dense(64, activation=\"relu\"),\n",
    "    keras.layers.Dense(1)\n",
    "])\n",
    "model_4.compile(optimizer=\"RMSprop\", loss=\"mse\")  # Using RMSprop instead of Adam\n",
    "history_4 = model_4.fit(X_train_scaled, y_train, epochs=50, batch_size=10, validation_data=(X_test_scaled, y_test))\n",
    "mse_dl_4 = model_4.evaluate(X_test_scaled, y_test)\n",
    "print(f\"\\nImproved Model (RMSprop Optimizer) Test Error (MSE): {mse_dl_4:.4f}\")"
   ]
  },
  {
   "cell_type": "markdown",
   "id": "db8da454",
   "metadata": {
    "papermill": {
     "duration": 0.060337,
     "end_time": "2025-02-03T22:55:43.530428",
     "exception": false,
     "start_time": "2025-02-03T22:55:43.470091",
     "status": "completed"
    },
    "tags": []
   },
   "source": [
    "## Step 10: Visualizing Training Progress"
   ]
  },
  {
   "cell_type": "code",
   "execution_count": 11,
   "id": "92c07804",
   "metadata": {
    "execution": {
     "iopub.execute_input": "2025-02-03T22:55:43.650653Z",
     "iopub.status.busy": "2025-02-03T22:55:43.650320Z",
     "iopub.status.idle": "2025-02-03T22:55:43.982309Z",
     "shell.execute_reply": "2025-02-03T22:55:43.981154Z"
    },
    "papermill": {
     "duration": 0.394517,
     "end_time": "2025-02-03T22:55:43.984207",
     "exception": false,
     "start_time": "2025-02-03T22:55:43.589690",
     "status": "completed"
    },
    "tags": []
   },
   "outputs": [
    {
     "data": {
      "image/png": "[encoded data removed]",
      "text/plain": [
       "<Figure size 1000x500 with 1 Axes>"
      ]
     },
     "metadata": {},
     "output_type": "display_data"
    }
   ],
   "source": [
    "plt.figure(figsize=(10, 5))\n",
    "plt.plot(history.history[\"loss\"], label=\"Basic Model Loss\")\n",
    "plt.plot(history_2.history[\"loss\"], label=\"More Neurons Loss\")\n",
    "plt.plot(history_3.history[\"loss\"], label=\"More Layers Loss\")\n",
    "plt.plot(history_4.history[\"loss\"], label=\"RMSprop Optimizer Loss\")\n",
    "plt.xlabel(\"Epochs\")\n",
    "plt.ylabel(\"Loss\")\n",
    "plt.title(\"Model Training Comparison\")\n",
    "plt.legend()\n",
    "plt.show()"
   ]
  },
  {
   "cell_type": "markdown",
   "id": "900a72ee",
   "metadata": {
    "papermill": {
     "duration": 0.062038,
     "end_time": "2025-02-03T22:55:44.107536",
     "exception": false,
     "start_time": "2025-02-03T22:55:44.045498",
     "status": "completed"
    },
    "tags": []
   },
   "source": [
    "## Summary of Results\n"
   ]
  },
  {
   "cell_type": "code",
   "execution_count": 12,
   "id": "f80c278b",
   "metadata": {
    "execution": {
     "iopub.execute_input": "2025-02-03T22:55:44.287929Z",
     "iopub.status.busy": "2025-02-03T22:55:44.287575Z",
     "iopub.status.idle": "2025-02-03T22:55:44.294070Z",
     "shell.execute_reply": "2025-02-03T22:55:44.293129Z"
    },
    "papermill": {
     "duration": 0.071993,
     "end_time": "2025-02-03T22:55:44.295823",
     "exception": false,
     "start_time": "2025-02-03T22:55:44.223830",
     "status": "completed"
    },
    "tags": []
   },
   "outputs": [
    {
     "name": "stdout",
     "output_type": "stream",
     "text": [
      "\n",
      "Final Model Test Errors:\n",
      "Linear Regression MSE: 22.1286\n",
      "Basic Deep Learning Model MSE: 25.2787\n",
      "More Neurons Model MSE: 22.2818\n",
      "More Layers Model MSE: 17.1703\n",
      "RMSprop Optimizer Model MSE: 20.5301\n"
     ]
    }
   ],
   "source": [
    "print(\"\\nFinal Model Test Errors:\")\n",
    "print(f\"Linear Regression MSE: {mse_lr:.4f}\")\n",
    "print(f\"Basic Deep Learning Model MSE: {mse_dl:.4f}\")\n",
    "print(f\"More Neurons Model MSE: {mse_dl_2:.4f}\")\n",
    "print(f\"More Layers Model MSE: {mse_dl_3:.4f}\")\n",
    "print(f\"RMSprop Optimizer Model MSE: {mse_dl_4:.4f}\")"
   ]
  },
  {
   "cell_type": "markdown",
   "id": "7f399f60",
   "metadata": {
    "papermill": {
     "duration": 0.060745,
     "end_time": "2025-02-03T22:55:44.417362",
     "exception": false,
     "start_time": "2025-02-03T22:55:44.356617",
     "status": "completed"
    },
    "tags": []
   },
   "source": [
    "### **Conclusion**\n",
    "This project aimed to predict **Scaled Sound Pressure Level (dB)** using both **Linear Regression** and **Deep Learning models** to assess their effectiveness in aerodynamic noise prediction.\n",
    "\n",
    "#### **Key Findings:**\n",
    "- **Linear Regression achieved an MSE of 22.1286**, serving as the baseline model.\n",
    "- **The Basic Deep Learning Model (MSE: 26.2215) underperformed compared to Linear Regression**, suggesting that a simple neural network may not be sufficient without proper tuning.\n",
    "- **Increasing the number of neurons improved performance (MSE: 22.8996)**, indicating that a more complex network helps capture underlying patterns.\n",
    "- **Adding more layers significantly improved performance (MSE: 18.7831)**, demonstrating the benefits of deeper architectures.\n",
    "- **Switching to the RMSprop optimizer (MSE: 18.9457) yielded similar results**, showing that optimization techniques can impact model performance.\n",
    "\n",
    "#### **Final Takeaways:**\n",
    "- **Deep Learning surpassed Linear Regression only after sufficient tuning**, particularly when more layers were introduced.\n",
    "- **The best model was the one with additional layers (MSE: 18.7831), confirming the advantage of deep networks in handling complex aerodynamic data.**\n",
    "- **Optimizer selection had minimal impact compared to architecture adjustments**, meaning fine-tuning layer structures should be prioritized.\n",
    "\n",
    "This study highlights the **importance of model complexity, hyperparameter tuning, and feature scaling** in deep learning for scientific applications. Future work could explore **regularization techniques, hyperparameter optimization, and advanced architectures** to further refine predictions."
   ]
  }
 ],
 "metadata": {
  "kaggle": {
   "accelerator": "none",
   "dataSources": [
    {
     "datasetId": 6598043,
     "sourceId": 10654912,
     "sourceType": "datasetVersion"
    }
   ],
   "dockerImageVersionId": 30839,
   "isGpuEnabled": false,
   "isInternetEnabled": true,
   "language": "python",
   "sourceType": "notebook"
  },
  "kernelspec": {
   "display_name": "Python 3",
   "language": "python",
   "name": "python3"
  },
  "language_info": {
   "codemirror_mode": {
    "name": "ipython",
    "version": 3
   },
   "file_extension": ".py",
   "mimetype": "text/x-python",
   "name": "python",
   "nbconvert_exporter": "python",
   "pygments_lexer": "ipython3",
   "version": "3.10.12"
  },
  "papermill": {
   "default_parameters": {},
   "duration": 69.269128,
   "end_time": "2025-02-03T22:55:46.202497",
   "environment_variables": {},
   "exception": null,
   "input_path": "__notebook__.ipynb",
   "output_path": "__notebook__.ipynb",
   "parameters": {},
   "start_time": "2025-02-03T22:54:36.933369",
   "version": "2.6.0"
  }
 },
 "nbformat": 4,
 "nbformat_minor": 5
}
